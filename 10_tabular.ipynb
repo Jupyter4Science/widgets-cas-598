{
 "cells": [
  {
   "cell_type": "markdown",
   "id": "775f9b1e-8921-4517-8feb-5fcb5e69d57a",
   "metadata": {},
   "source": [
    "## Dashboard Layout"
   ]
  },
  {
   "cell_type": "code",
   "execution_count": null,
   "id": "5d62ce64-3f56-4ac4-8d8b-1eeb94f22c1e",
   "metadata": {},
   "outputs": [],
   "source": [
    "#| default_exp main"
   ]
  },
  {
   "cell_type": "markdown",
   "id": "91f96da3-1429-4c17-a340-2a6c9fedb1b1",
   "metadata": {},
   "source": [
    "Let's start by importing all the widgets we created last time."
   ]
  },
  {
   "cell_type": "code",
   "execution_count": 118,
   "id": "88e92874-4371-4342-9658-41fdaa1ecfe6",
   "metadata": {},
   "outputs": [],
   "source": [
    "#| export\n",
    "# %answer key/dashboard/widgets.py 3\n",
    "\n",
    "import ipywidgets as widgets\n",
    "from key.dashboard.widgets import year_range, poly_order, window_size, plot_output, selected_data_output\n",
    "from IPython.display import HTML\n"
   ]
  },
  {
   "cell_type": "markdown",
   "id": "64130f3f-8784-4566-9229-41eb40dab3b1",
   "metadata": {},
   "source": [
    "We can even display them to make sure they still work as expected.\n",
    "> **Issues?** If they don't work as expected, change the beginning of the import statement above to `from dashboard.widgets` to `from dashboard_key.widgets`"
   ]
  },
  {
   "cell_type": "code",
   "execution_count": 119,
   "id": "a8e4e832-31e3-4531-8340-d2196d5c0514",
   "metadata": {},
   "outputs": [
    {
     "data": {
      "application/vnd.jupyter.widget-view+json": {
       "model_id": "dd120b0c437f4a988e63fc9a55484a35",
       "version_major": 2,
       "version_minor": 0
      },
      "text/plain": [
       "IntRangeSlider(value=(1885, 1923), description='Range of Years', layout=Layout(width='500px'), max=2019, min=1…"
      ]
     },
     "execution_count": 119,
     "metadata": {},
     "output_type": "execute_result"
    }
   ],
   "source": [
    "year_range"
   ]
  },
  {
   "cell_type": "code",
   "execution_count": 120,
   "id": "deb5a7f0-62f1-42dc-8db1-da929da9f893",
   "metadata": {},
   "outputs": [
    {
     "data": {
      "application/vnd.jupyter.widget-view+json": {
       "model_id": "1272b450c906420fb36b5794d803ee0f",
       "version_major": 2,
       "version_minor": 0
      },
      "text/plain": [
       "Output(outputs=({'output_type': 'display_data', 'data': {'text/plain': '<Figure size 640x480 with 1 Axes>', 'i…"
      ]
     },
     "execution_count": 120,
     "metadata": {},
     "output_type": "execute_result"
    }
   ],
   "source": [
    "plot_output"
   ]
  },
  {
   "cell_type": "markdown",
   "id": "a1a05a0b-fdae-465c-8a58-54ce3a719a4a",
   "metadata": {},
   "source": [
    "Okay, that all looks really good! We successfully used nbdev to export certain cells to a python file. That's going to be a big deal as our dashboard grows into an app, but it's even useful now since our last notebook got really long. This way we can develop in steps but still maintain digestible notebooks. "
   ]
  },
  {
   "cell_type": "markdown",
   "id": "4619801c-bf74-4ba8-b01d-2918265221c3",
   "metadata": {},
   "source": [
    "## Styling"
   ]
  },
  {
   "cell_type": "markdown",
   "id": "c4b4736b-bea5-48f4-b5ba-42f42a5bf899",
   "metadata": {},
   "source": [
    "The style attribute is used to expose non-layout related styling attributes of widgets. Many helpful CSS properties are exposed through the style attribute. Others are made available for particular widgets, such as the `handle_color` property of the many types of Sliders."
   ]
  },
  {
   "cell_type": "code",
   "execution_count": 121,
   "id": "c5acd726-7575-4bbb-b480-d2c0e17f0823",
   "metadata": {},
   "outputs": [
    {
     "data": {
      "application/vnd.jupyter.widget-view+json": {
       "model_id": "6f6d46719ab847979b3590d5f615b913",
       "version_major": 2,
       "version_minor": 0
      },
      "text/plain": [
       "IntSlider(value=10, description='Window Size', min=1, style=SliderStyle(handle_color='orange'))"
      ]
     },
     "execution_count": 121,
     "metadata": {},
     "output_type": "execute_result"
    }
   ],
   "source": [
    "window_size"
   ]
  },
  {
   "cell_type": "code",
   "execution_count": 122,
   "id": "b697d130-4f26-4166-8e50-c9999b54cf62",
   "metadata": {},
   "outputs": [],
   "source": [
    "#| export\n",
    "window_size.style.handle_color = 'orange'"
   ]
  },
  {
   "cell_type": "markdown",
   "id": "3c7e4f40-f707-483b-9363-a502423d0adc",
   "metadata": {},
   "source": [
    "Description width has a very convenient option called \"initial\" that makes the description just as wide as it needs to be so none of the letters are hidden."
   ]
  },
  {
   "cell_type": "code",
   "execution_count": 123,
   "id": "07a733cc-645e-4f76-8163-c37785d4cb78",
   "metadata": {},
   "outputs": [
    {
     "data": {
      "application/vnd.jupyter.widget-view+json": {
       "model_id": "dd120b0c437f4a988e63fc9a55484a35",
       "version_major": 2,
       "version_minor": 0
      },
      "text/plain": [
       "IntRangeSlider(value=(1885, 1923), description='Range of Years', layout=Layout(width='500px'), max=2019, min=1…"
      ]
     },
     "execution_count": 123,
     "metadata": {},
     "output_type": "execute_result"
    }
   ],
   "source": [
    "year_range"
   ]
  },
  {
   "cell_type": "code",
   "execution_count": 124,
   "id": "3d0a4a53-18a0-43e4-9b64-bebaff52d716",
   "metadata": {},
   "outputs": [],
   "source": [
    "#| export\n",
    "year_range.style.handle_color = 'orange'"
   ]
  },
  {
   "cell_type": "code",
   "execution_count": 125,
   "id": "acec0efb-613c-4626-9995-4bb79220db3e",
   "metadata": {},
   "outputs": [],
   "source": [
    "#| export\n",
    "year_range.style.description_width = 'initial'"
   ]
  },
  {
   "cell_type": "markdown",
   "id": "dad59186-2c3f-4614-9051-01349bbd3ffd",
   "metadata": {},
   "source": [
    "## Layout\n",
    "\n",
    "Jupyter interactive widgets have a layout attribute exposing a number of CSS properties that impact how widgets are laid out."
   ]
  },
  {
   "cell_type": "code",
   "execution_count": 126,
   "id": "8dcf81e9-3915-450f-9af1-86a47be83a70",
   "metadata": {},
   "outputs": [],
   "source": [
    "#| export\n",
    "year_range.layout.width = '500px'"
   ]
  },
  {
   "cell_type": "code",
   "execution_count": 127,
   "id": "525b4740-91b8-4390-9431-856eb6424b3d",
   "metadata": {},
   "outputs": [
    {
     "data": {
      "application/vnd.jupyter.widget-view+json": {
       "model_id": "0e71dd92fbca474395a2579d53d12bd2",
       "version_major": 2,
       "version_minor": 0
      },
      "text/plain": [
       "BoundedIntText(value=1, description='Poly Order', layout=Layout(width='140px'), max=9)"
      ]
     },
     "execution_count": 127,
     "metadata": {},
     "output_type": "execute_result"
    }
   ],
   "source": [
    "poly_order"
   ]
  },
  {
   "cell_type": "code",
   "execution_count": 128,
   "id": "8cdacd40-9e98-4b03-a51d-0a589523191b",
   "metadata": {},
   "outputs": [],
   "source": [
    "#| export\n",
    "poly_order.layout.width = '140px'"
   ]
  },
  {
   "cell_type": "markdown",
   "id": "6803f84a-0970-4b4e-a0cd-c0cb534adc13",
   "metadata": {},
   "source": [
    "## Container Widgets"
   ]
  },
  {
   "cell_type": "markdown",
   "id": "aa693f7e-930c-46aa-87ea-320ad4bc4195",
   "metadata": {},
   "source": [
    "We an use container widgets for any number of reasons. Later on in this tutorial, we will use the Tab widget to create multistep web applications. Below, we will nest the `selected_data_output` widget inside the Accordion widget to give the user the option to hide it away and make it smaller. Let's see what it looks like on it's own first."
   ]
  },
  {
   "cell_type": "code",
   "execution_count": 129,
   "id": "80a85fa7-44c5-49ca-a279-72d3ae16a39e",
   "metadata": {},
   "outputs": [
    {
     "data": {
      "application/vnd.jupyter.widget-view+json": {
       "model_id": "ad2a941c78f545cb96bd99f04d6cec81",
       "version_major": 2,
       "version_minor": 0
      },
      "text/plain": [
       "Accordion()"
      ]
     },
     "execution_count": 129,
     "metadata": {},
     "output_type": "execute_result"
    }
   ],
   "source": [
    "#| export\n",
    "selected_data_accordion = widgets.Accordion(titles=('Selected Data',))\n",
    "selected_data_accordion"
   ]
  },
  {
   "cell_type": "markdown",
   "id": "90de6211-60bb-4bce-b753-79c412263254",
   "metadata": {},
   "source": [
    "Not a whole lot going on here. Why? Because we haven't given the Accordion a \"child\" widget to hold just yet. Let's go ahead and **\"Create New View for Output\"**"
   ]
  },
  {
   "cell_type": "markdown",
   "id": "3384730c-d52d-499e-922d-ed40deacc814",
   "metadata": {},
   "source": [
    "### Tuples\n",
    "\n",
    "The data type of the children trait expected by Container widgets is a tuple. If you haven't encountered them before, tuples are similar to lists but they are immutable, meaning that their contents can't be change once you've created them. The syntax for a tuple with multiple elements is `('one', 'two', 'three')`. Just like a list but with parentheses. There is one execption to that analogy which we will cover soon."
   ]
  },
  {
   "cell_type": "markdown",
   "id": "986e41ed-ffee-4d95-87ad-04b34bda8212",
   "metadata": {},
   "source": [
    "Okay, so let's try and add the selected_data_output widget to the accordion. "
   ]
  },
  {
   "cell_type": "code",
   "execution_count": 130,
   "id": "521494d8-7115-441b-94f8-f66e5d44bf56",
   "metadata": {},
   "outputs": [
    {
     "ename": "TraitError",
     "evalue": "The 'children' trait of an Accordion instance expected a tuple, not the Output Output(outputs=({'output_type': 'display_data', 'data': {'text/plain': '    Year  Temperature  Savitzky-Golay\\n5   1885        -0.32          -0.214\\n6   1886        -0.30          -0.229\\n7   1887        -0.34          -0.246\\n8   1888        -0.16          -0.261\\n9   1889        -0.09          -0.263\\n10  1890        -0.34          -0.253\\n11  1891        -0.22          -0.233\\n12  1892        -0.26          -0.209\\n13  1893        -0.31          -0.219\\n14  1894        -0.29          -0.227\\n15  1895        -0.22          -0.200\\n16  1896        -0.10          -0.193\\n17  1897        -0.10          -0.194\\n18  1898        -0.26          -0.199\\n19  1899        -0.17          -0.216\\n20  1900        -0.07          -0.220\\n21  1901        -0.15          -0.231\\n22  1902        -0.27          -0.259\\n23  1903        -0.36          -0.275\\n24  1904        -0.46          -0.306\\n25  1905        -0.26          -0.341\\n26  1906        -0.21          -0.369\\n27  1907        -0.38          -0.377\\n28  1908        -0.42          -0.375\\n29  1909        -0.48          -0.344\\n30  1910        -0.42          -0.332\\n31  1911        -0.43          -0.346\\n32  1912        -0.35          -0.353\\n33  1913        -0.34          -0.340\\n34  1914        -0.15          -0.319\\n35  1915        -0.14          -0.304\\n36  1916        -0.35          -0.280\\n37  1917        -0.45          -0.273\\n38  1918        -0.29          -0.265\\n39  1919        -0.27          -0.277\\n40  1920        -0.27          -0.285\\n41  1921        -0.19          -0.260\\n42  1922        -0.28          -0.237\\n43  1923        -0.26          -0.228', 'text/html': '<div>\\n<style scoped>\\n    .dataframe tbody tr th:only-of-type {\\n        vertical-align: middle;\\n    }\\n\\n    .dataframe tbody tr th {\\n        vertical-align: top;\\n    }\\n\\n    .dataframe thead th {\\n        text-align: right;\\n    }\\n</style>\\n<table border=\"1\" class=\"dataframe\">\\n  <thead>\\n    <tr style=\"text-align: right;\">\\n      <th></th>\\n      <th>Year</th>\\n      <th>Temperature</th>\\n      <th>Savitzky-Golay</th>\\n    </tr>\\n  </thead>\\n  <tbody>\\n    <tr>\\n      <th>5</th>\\n      <td>1885</td>\\n      <td>-0.32</td>\\n      <td>-0.214</td>\\n    </tr>\\n    <tr>\\n      <th>6</th>\\n      <td>1886</td>\\n      <td>-0.30</td>\\n      <td>-0.229</td>\\n    </tr>\\n    <tr>\\n      <th>7</th>\\n      <td>1887</td>\\n      <td>-0.34</td>\\n      <td>-0.246</td>\\n    </tr>\\n    <tr>\\n      <th>8</th>\\n      <td>1888</td>\\n      <td>-0.16</td>\\n      <td>-0.261</td>\\n    </tr>\\n    <tr>\\n      <th>9</th>\\n      <td>1889</td>\\n      <td>-0.09</td>\\n      <td>-0.263</td>\\n    </tr>\\n    <tr>\\n      <th>10</th>\\n      <td>1890</td>\\n      <td>-0.34</td>\\n      <td>-0.253</td>\\n    </tr>\\n    <tr>\\n      <th>11</th>\\n      <td>1891</td>\\n      <td>-0.22</td>\\n      <td>-0.233</td>\\n    </tr>\\n    <tr>\\n      <th>12</th>\\n      <td>1892</td>\\n      <td>-0.26</td>\\n      <td>-0.209</td>\\n    </tr>\\n    <tr>\\n      <th>13</th>\\n      <td>1893</td>\\n      <td>-0.31</td>\\n      <td>-0.219</td>\\n    </tr>\\n    <tr>\\n      <th>14</th>\\n      <td>1894</td>\\n      <td>-0.29</td>\\n      <td>-0.227</td>\\n    </tr>\\n    <tr>\\n      <th>15</th>\\n      <td>1895</td>\\n      <td>-0.22</td>\\n      <td>-0.200</td>\\n    </tr>\\n    <tr>\\n      <th>16</th>\\n      <td>1896</td>\\n      <td>-0.10</td>\\n      <td>-0.193</td>\\n    </tr>\\n    <tr>\\n      <th>17</th>\\n      <td>1897</td>\\n      <td>-0.10</td>\\n      <td>-0.194</td>\\n    </tr>\\n    <tr>\\n      <th>18</th>\\n      <td>1898</td>\\n      <td>-0.26</td>\\n      <td>-0.199</td>\\n    </tr>\\n    <tr>\\n      <th>19</th>\\n      <td>1899</td>\\n      <td>-0.17</td>\\n      <td>-0.216</td>\\n    </tr>\\n    <tr>\\n      <th>20</th>\\n      <td>1900</td>\\n      <td>-0.07</td>\\n      <td>-0.220</td>\\n    </tr>\\n    <tr>\\n      <th>21</th>\\n      <td>1901</td>\\n      <td>-0.15</td>\\n      <td>-0.231</td>\\n    </tr>\\n    <tr>\\n      <th>22</th>\\n      <td>1902</td>\\n      <td>-0.27</td>\\n      <td>-0.259</td>\\n    </tr>\\n    <tr>\\n      <th>23</th>\\n      <td>1903</td>\\n      <td>-0.36</td>\\n      <td>-0.275</td>\\n    </tr>\\n    <tr>\\n      <th>24</th>\\n      <td>1904</td>\\n      <td>-0.46</td>\\n      <td>-0.306</td>\\n    </tr>\\n    <tr>\\n      <th>25</th>\\n      <td>1905</td>\\n      <td>-0.26</td>\\n      <td>-0.341</td>\\n    </tr>\\n    <tr>\\n      <th>26</th>\\n      <td>1906</td>\\n      <td>-0.21</td>\\n      <td>-0.369</td>\\n    </tr>\\n    <tr>\\n      <th>27</th>\\n      <td>1907</td>\\n      <td>-0.38</td>\\n      <td>-0.377</td>\\n    </tr>\\n    <tr>\\n      <th>28</th>\\n      <td>1908</td>\\n      <td>-0.42</td>\\n      <td>-0.375</td>\\n    </tr>\\n    <tr>\\n      <th>29</th>\\n      <td>1909</td>\\n      <td>-0.48</td>\\n      <td>-0.344</td>\\n    </tr>\\n    <tr>\\n      <th>30</th>\\n      <td>1910</td>\\n      <td>-0.42</td>\\n      <td>-0.332</td>\\n    </tr>\\n    <tr>\\n      <th>31</th>\\n      <td>1911</td>\\n      <td>-0.43</td>\\n      <td>-0.346</td>\\n    </tr>\\n    <tr>\\n      <th>32</th>\\n      <td>1912</td>\\n      <td>-0.35</td>\\n      <td>-0.353</td>\\n    </tr>\\n    <tr>\\n      <th>33</th>\\n      <td>1913</td>\\n      <td>-0.34</td>\\n      <td>-0.340</td>\\n    </tr>\\n    <tr>\\n      <th>34</th>\\n      <td>1914</td>\\n      <td>-0.15</td>\\n      <td>-0.319</td>\\n    </tr>\\n    <tr>\\n      <th>35</th>\\n      <td>1915</td>\\n      <td>-0.14</td>\\n      <td>-0.304</td>\\n    </tr>\\n    <tr>\\n      <th>36</th>\\n      <td>1916</td>\\n      <td>-0.35</td>\\n      <td>-0.280</td>\\n    </tr>\\n    <tr>\\n      <th>37</th>\\n      <td>1917</td>\\n      <td>-0.45</td>\\n      <td>-0.273</td>\\n    </tr>\\n    <tr>\\n      <th>38</th>\\n      <td>1918</td>\\n      <td>-0.29</td>\\n      <td>-0.265</td>\\n    </tr>\\n    <tr>\\n      <th>39</th>\\n      <td>1919</td>\\n      <td>-0.27</td>\\n      <td>-0.277</td>\\n    </tr>\\n    <tr>\\n      <th>40</th>\\n      <td>1920</td>\\n      <td>-0.27</td>\\n      <td>-0.285</td>\\n    </tr>\\n    <tr>\\n      <th>41</th>\\n      <td>1921</td>\\n      <td>-0.19</td>\\n      <td>-0.260</td>\\n    </tr>\\n    <tr>\\n      <th>42</th>\\n      <td>1922</td>\\n      <td>-0.28</td>\\n      <td>-0.237</td>\\n    </tr>\\n    <tr>\\n      <th>43</th>\\n      <td>1923</td>\\n      <td>-0.26</td>\\n      <td>-0.228</td>\\n    </tr>\\n  </tbody>\\n</table>\\n</div>'}, 'metadata': {}},)).",
     "output_type": "error",
     "traceback": [
      "\u001b[0;31mTraitError\u001b[0m\u001b[0;31m:\u001b[0m The 'children' trait of an Accordion instance expected a tuple, not the Output Output(outputs=({'output_type': 'display_data', 'data': {'text/plain': '    Year  Temperature  Savitzky-Golay\\n5   1885        -0.32          -0.214\\n6   1886        -0.30          -0.229\\n7   1887        -0.34          -0.246\\n8   1888        -0.16          -0.261\\n9   1889        -0.09          -0.263\\n10  1890        -0.34          -0.253\\n11  1891        -0.22          -0.233\\n12  1892        -0.26          -0.209\\n13  1893        -0.31          -0.219\\n14  1894        -0.29          -0.227\\n15  1895        -0.22          -0.200\\n16  1896        -0.10          -0.193\\n17  1897        -0.10          -0.194\\n18  1898        -0.26          -0.199\\n19  1899        -0.17          -0.216\\n20  1900        -0.07          -0.220\\n21  1901        -0.15          -0.231\\n22  1902        -0.27          -0.259\\n23  1903        -0.36          -0.275\\n24  1904        -0.46          -0.306\\n25  1905        -0.26          -0.341\\n26  1906        -0.21          -0.369\\n27  1907        -0.38          -0.377\\n28  1908        -0.42          -0.375\\n29  1909        -0.48          -0.344\\n30  1910        -0.42          -0.332\\n31  1911        -0.43          -0.346\\n32  1912        -0.35          -0.353\\n33  1913        -0.34          -0.340\\n34  1914        -0.15          -0.319\\n35  1915        -0.14          -0.304\\n36  1916        -0.35          -0.280\\n37  1917        -0.45          -0.273\\n38  1918        -0.29          -0.265\\n39  1919        -0.27          -0.277\\n40  1920        -0.27          -0.285\\n41  1921        -0.19          -0.260\\n42  1922        -0.28          -0.237\\n43  1923        -0.26          -0.228', 'text/html': '<div>\\n<style scoped>\\n    .dataframe tbody tr th:only-of-type {\\n        vertical-align: middle;\\n    }\\n\\n    .dataframe tbody tr th {\\n        vertical-align: top;\\n    }\\n\\n    .dataframe thead th {\\n        text-align: right;\\n    }\\n</style>\\n<table border=\"1\" class=\"dataframe\">\\n  <thead>\\n    <tr style=\"text-align: right;\">\\n      <th></th>\\n      <th>Year</th>\\n      <th>Temperature</th>\\n      <th>Savitzky-Golay</th>\\n    </tr>\\n  </thead>\\n  <tbody>\\n    <tr>\\n      <th>5</th>\\n      <td>1885</td>\\n      <td>-0.32</td>\\n      <td>-0.214</td>\\n    </tr>\\n    <tr>\\n      <th>6</th>\\n      <td>1886</td>\\n      <td>-0.30</td>\\n      <td>-0.229</td>\\n    </tr>\\n    <tr>\\n      <th>7</th>\\n      <td>1887</td>\\n      <td>-0.34</td>\\n      <td>-0.246</td>\\n    </tr>\\n    <tr>\\n      <th>8</th>\\n      <td>1888</td>\\n      <td>-0.16</td>\\n      <td>-0.261</td>\\n    </tr>\\n    <tr>\\n      <th>9</th>\\n      <td>1889</td>\\n      <td>-0.09</td>\\n      <td>-0.263</td>\\n    </tr>\\n    <tr>\\n      <th>10</th>\\n      <td>1890</td>\\n      <td>-0.34</td>\\n      <td>-0.253</td>\\n    </tr>\\n    <tr>\\n      <th>11</th>\\n      <td>1891</td>\\n      <td>-0.22</td>\\n      <td>-0.233</td>\\n    </tr>\\n    <tr>\\n      <th>12</th>\\n      <td>1892</td>\\n      <td>-0.26</td>\\n      <td>-0.209</td>\\n    </tr>\\n    <tr>\\n      <th>13</th>\\n      <td>1893</td>\\n      <td>-0.31</td>\\n      <td>-0.219</td>\\n    </tr>\\n    <tr>\\n      <th>14</th>\\n      <td>1894</td>\\n      <td>-0.29</td>\\n      <td>-0.227</td>\\n    </tr>\\n    <tr>\\n      <th>15</th>\\n      <td>1895</td>\\n      <td>-0.22</td>\\n      <td>-0.200</td>\\n    </tr>\\n    <tr>\\n      <th>16</th>\\n      <td>1896</td>\\n      <td>-0.10</td>\\n      <td>-0.193</td>\\n    </tr>\\n    <tr>\\n      <th>17</th>\\n      <td>1897</td>\\n      <td>-0.10</td>\\n      <td>-0.194</td>\\n    </tr>\\n    <tr>\\n      <th>18</th>\\n      <td>1898</td>\\n      <td>-0.26</td>\\n      <td>-0.199</td>\\n    </tr>\\n    <tr>\\n      <th>19</th>\\n      <td>1899</td>\\n      <td>-0.17</td>\\n      <td>-0.216</td>\\n    </tr>\\n    <tr>\\n      <th>20</th>\\n      <td>1900</td>\\n      <td>-0.07</td>\\n      <td>-0.220</td>\\n    </tr>\\n    <tr>\\n      <th>21</th>\\n      <td>1901</td>\\n      <td>-0.15</td>\\n      <td>-0.231</td>\\n    </tr>\\n    <tr>\\n      <th>22</th>\\n      <td>1902</td>\\n      <td>-0.27</td>\\n      <td>-0.259</td>\\n    </tr>\\n    <tr>\\n      <th>23</th>\\n      <td>1903</td>\\n      <td>-0.36</td>\\n      <td>-0.275</td>\\n    </tr>\\n    <tr>\\n      <th>24</th>\\n      <td>1904</td>\\n      <td>-0.46</td>\\n      <td>-0.306</td>\\n    </tr>\\n    <tr>\\n      <th>25</th>\\n      <td>1905</td>\\n      <td>-0.26</td>\\n      <td>-0.341</td>\\n    </tr>\\n    <tr>\\n      <th>26</th>\\n      <td>1906</td>\\n      <td>-0.21</td>\\n      <td>-0.369</td>\\n    </tr>\\n    <tr>\\n      <th>27</th>\\n      <td>1907</td>\\n      <td>-0.38</td>\\n      <td>-0.377</td>\\n    </tr>\\n    <tr>\\n      <th>28</th>\\n      <td>1908</td>\\n      <td>-0.42</td>\\n      <td>-0.375</td>\\n    </tr>\\n    <tr>\\n      <th>29</th>\\n      <td>1909</td>\\n      <td>-0.48</td>\\n      <td>-0.344</td>\\n    </tr>\\n    <tr>\\n      <th>30</th>\\n      <td>1910</td>\\n      <td>-0.42</td>\\n      <td>-0.332</td>\\n    </tr>\\n    <tr>\\n      <th>31</th>\\n      <td>1911</td>\\n      <td>-0.43</td>\\n      <td>-0.346</td>\\n    </tr>\\n    <tr>\\n      <th>32</th>\\n      <td>1912</td>\\n      <td>-0.35</td>\\n      <td>-0.353</td>\\n    </tr>\\n    <tr>\\n      <th>33</th>\\n      <td>1913</td>\\n      <td>-0.34</td>\\n      <td>-0.340</td>\\n    </tr>\\n    <tr>\\n      <th>34</th>\\n      <td>1914</td>\\n      <td>-0.15</td>\\n      <td>-0.319</td>\\n    </tr>\\n    <tr>\\n      <th>35</th>\\n      <td>1915</td>\\n      <td>-0.14</td>\\n      <td>-0.304</td>\\n    </tr>\\n    <tr>\\n      <th>36</th>\\n      <td>1916</td>\\n      <td>-0.35</td>\\n      <td>-0.280</td>\\n    </tr>\\n    <tr>\\n      <th>37</th>\\n      <td>1917</td>\\n      <td>-0.45</td>\\n      <td>-0.273</td>\\n    </tr>\\n    <tr>\\n      <th>38</th>\\n      <td>1918</td>\\n      <td>-0.29</td>\\n      <td>-0.265</td>\\n    </tr>\\n    <tr>\\n      <th>39</th>\\n      <td>1919</td>\\n      <td>-0.27</td>\\n      <td>-0.277</td>\\n    </tr>\\n    <tr>\\n      <th>40</th>\\n      <td>1920</td>\\n      <td>-0.27</td>\\n      <td>-0.285</td>\\n    </tr>\\n    <tr>\\n      <th>41</th>\\n      <td>1921</td>\\n      <td>-0.19</td>\\n      <td>-0.260</td>\\n    </tr>\\n    <tr>\\n      <th>42</th>\\n      <td>1922</td>\\n      <td>-0.28</td>\\n      <td>-0.237</td>\\n    </tr>\\n    <tr>\\n      <th>43</th>\\n      <td>1923</td>\\n      <td>-0.26</td>\\n      <td>-0.228</td>\\n    </tr>\\n  </tbody>\\n</table>\\n</div>'}, 'metadata': {}},)).\n"
     ]
    }
   ],
   "source": [
    "%%exception\n",
    "\n",
    "selected_data_accordion.children = (selected_data_output)"
   ]
  },
  {
   "cell_type": "markdown",
   "id": "19b48ec4-796b-4efd-9381-7c41b6cd7d68",
   "metadata": {},
   "source": [
    "That's a lot of text in one error message. What happened here? Our error is telling us that the 'children' trait expected a tuple, and not an Output widget. Do you remember when I said the syntax of a tuple looks the same as a list but with parenthases? Well this is the grand exception (lol). Tuples with one element are written a little differently: as if you were creating a tuple with two elements, but then you removed the second one. That is, the comma and the closing bracket stay, but the \"name of the second element\" is removed. Go ahead and try that on your own below."
   ]
  },
  {
   "cell_type": "code",
   "execution_count": 131,
   "id": "331f412e-833b-4f14-91aa-5b5686b28fb6",
   "metadata": {},
   "outputs": [],
   "source": [
    "#| export\n",
    "# %answer key/dashboard/widgets.py 28\n",
    "\n",
    "### TODO: CHECK WITH PY FILES\n",
    "selected_data_accordion.children = (selected_data_output, )"
   ]
  },
  {
   "cell_type": "markdown",
   "id": "07099cb4-cf07-4f76-99eb-fa69cf720fbe",
   "metadata": {},
   "source": [
    "It seems that by default, the data isn't showing. The accordion apprears to be closed. We can change this using the `selected_index` trait of the accordion. Let's see what it's set to now."
   ]
  },
  {
   "cell_type": "code",
   "execution_count": 132,
   "id": "5c8f5b91-014e-433c-b703-e243a6d99c33",
   "metadata": {},
   "outputs": [],
   "source": [
    "selected_data_accordion.selected_index"
   ]
  },
  {
   "cell_type": "markdown",
   "id": "81cbe9cb-d944-4692-aaa3-ff827135086c",
   "metadata": {},
   "source": [
    "If your accordion is closed, selected_index will be `None` and won't appear to return anything at all. We can open the accordion programatically by setting the selected_index to the index of the accordion we want to open. In this case there is only one. Go ahead and try to open the accordion programmatically."
   ]
  },
  {
   "cell_type": "code",
   "execution_count": 133,
   "id": "35b6b8f5-acd9-4ad8-8987-f1d7050a8061",
   "metadata": {},
   "outputs": [],
   "source": [
    "#| export\n",
    "# %answer key/dashboard/widgets.py 32\n",
    "\n",
    "selected_data_accordion.selected_index = 0"
   ]
  },
  {
   "cell_type": "code",
   "execution_count": 134,
   "id": "c5d9a2f8-0dff-4e07-bef4-e1c2aa24aa09",
   "metadata": {},
   "outputs": [
    {
     "data": {
      "application/vnd.jupyter.widget-view+json": {
       "model_id": "ad2a941c78f545cb96bd99f04d6cec81",
       "version_major": 2,
       "version_minor": 0
      },
      "text/plain": [
       "Accordion(children=(Output(outputs=({'output_type': 'display_data', 'data': {'text/plain': '    Year  Temperat…"
      ]
     },
     "execution_count": 134,
     "metadata": {},
     "output_type": "execute_result"
    }
   ],
   "source": [
    "### TODO: ADD TO NOTEBOOK EDIT\n",
    "selected_data_accordion"
   ]
  },
  {
   "cell_type": "markdown",
   "id": "ee491de4-e373-4460-b576-4b4d323b6fad",
   "metadata": {},
   "source": [
    "We like this trick, because our users are probably more interested in our plot than the raw data anyways, so this keeps the raw data from being in the way."
   ]
  },
  {
   "cell_type": "markdown",
   "id": "4ccc1ed5-c59c-4853-a959-6a9160d5a4c2",
   "metadata": {},
   "source": [
    "## Add an intro with links\n",
    "\n",
    "Before we put everything together, let's add some widgets that provide a little information about the dashboard."
   ]
  },
  {
   "cell_type": "code",
   "execution_count": 135,
   "id": "ee3f3e71-2120-4415-81e1-ff9f36ef6204",
   "metadata": {},
   "outputs": [],
   "source": [
    "#| export\n",
    "INTRO_TEXT = '''\n",
    "<p><b>Curve Smoothing</b>\n",
    "This tool is for smoothing and selecting land-ocean temperature data for visualization. Start by selecting a date\n",
    "range, and then select the smoothing algorithm you want to use. Then click through to the next step, where you will change properies\n",
    "of the curve smoothing algorithm you selected and visualize the data. \n",
    "</p>\n",
    "'''\n",
    "SOURCES_TEXT = '''\n",
    "<p>\n",
    "<b>About Land-Ocean Temperature Data</b>\n",
    "<a href=\"https://climate.nasa.gov/vital-signs/global-temperature/\"\n",
    "target=\"_blank\">Global Temperature (NASA)</a>\n",
    ",\n",
    "<a href=\"https://data.giss.nasa.gov/gistemp/\"\n",
    "target=\"_blank\">GISS Surface Temperature Analysis (NASA)</a>\n",
    "</p><p>\n",
    "This site is based on data downloaded from the following site on 2020-07-14:\n",
    "<a href=\"https://data.giss.nasa.gov/gistemp/graphs/graph_data/Global_Mean_Estimates_based_on_Land_and_Ocean_Data/graph.txt\"  # noqa\n",
    "target=\"_blank\">Global Mean Estimates based on Land and Ocean Data (NASA)</a>\n",
    "'''"
   ]
  },
  {
   "cell_type": "markdown",
   "id": "e9d46022-ef0a-4d0b-bb46-033cd9f8330b",
   "metadata": {},
   "source": [
    "### Layout object\n",
    "\n",
    "We can use the Layout object to set the layout on initialization."
   ]
  },
  {
   "cell_type": "code",
   "execution_count": 136,
   "id": "187d1f8a-7514-4c09-b019-233b7829acef",
   "metadata": {},
   "outputs": [],
   "source": [
    "#| export    \n",
    "intro_text = widgets.HTML(value = INTRO_TEXT, layout = widgets.Layout(max_width = '500px'))\n",
    "data_source_text = widgets.HTML(value = SOURCES_TEXT, layout = widgets.Layout(max_width = '500px'))"
   ]
  },
  {
   "cell_type": "code",
   "execution_count": 137,
   "id": "4c89d351-c9a5-44df-8c12-3669f5c047df",
   "metadata": {},
   "outputs": [
    {
     "data": {
      "application/vnd.jupyter.widget-view+json": {
       "model_id": "226ef9e2208449948a6cdb31cf9c4fa6",
       "version_major": 2,
       "version_minor": 0
      },
      "text/plain": [
       "HTML(value='\\n<p><b>Curve Smoothing</b>\\nThis tool is for smoothing and selecting land-ocean temperature data …"
      ]
     },
     "execution_count": 137,
     "metadata": {},
     "output_type": "execute_result"
    }
   ],
   "source": [
    "intro_text"
   ]
  },
  {
   "cell_type": "code",
   "execution_count": 138,
   "id": "0395d883-2a40-4b0f-83b1-b634869cd59c",
   "metadata": {},
   "outputs": [
    {
     "data": {
      "application/vnd.jupyter.widget-view+json": {
       "model_id": "4277218a32fb42cda26423c867b815a7",
       "version_major": 2,
       "version_minor": 0
      },
      "text/plain": [
       "HTML(value='\\n<p>\\n<b>About Land-Ocean Temperature Data</b>\\n<a href=\"https://climate.nasa.gov/vital-signs/glo…"
      ]
     },
     "execution_count": 138,
     "metadata": {},
     "output_type": "execute_result"
    }
   ],
   "source": [
    "data_source_text"
   ]
  },
  {
   "cell_type": "markdown",
   "id": "5a2ddda7-6828-492a-ba97-59b1110227a1",
   "metadata": {},
   "source": [
    "## Arranging Widgets with HBox and VBox"
   ]
  },
  {
   "cell_type": "markdown",
   "id": "a7000ff3-0754-4df4-bb2d-b8f12b15280b",
   "metadata": {},
   "source": [
    "The arrangment where every widget is stacked one on top of the other isn't ideal for a data dashboard that we expect users to access from a desktop. ipywidgets has several container widgets to arrange widgets in various ways. Perhaps two of the most handy are the `HBox` and `VBox` widgets, which arrange widgets horizontally and vertically, respectively. If you are familiar with FlexBox, those properties are available under the hood, but we will not cover them here. Let's use a HBox to put the curve parameter widgets side by side."
   ]
  },
  {
   "cell_type": "code",
   "execution_count": 139,
   "id": "9076da82-ae76-4153-9834-848209206c59",
   "metadata": {},
   "outputs": [
    {
     "data": {
      "application/vnd.jupyter.widget-view+json": {
       "model_id": "6f6d46719ab847979b3590d5f615b913",
       "version_major": 2,
       "version_minor": 0
      },
      "text/plain": [
       "IntSlider(value=10, description='Window Size', min=1, style=SliderStyle(handle_color='orange'))"
      ]
     },
     "execution_count": 139,
     "metadata": {},
     "output_type": "execute_result"
    }
   ],
   "source": [
    "window_size"
   ]
  },
  {
   "cell_type": "code",
   "execution_count": 140,
   "id": "b0f5d9a8-5f28-4f76-816e-9f6bd65fe1f5",
   "metadata": {},
   "outputs": [
    {
     "data": {
      "application/vnd.jupyter.widget-view+json": {
       "model_id": "0e71dd92fbca474395a2579d53d12bd2",
       "version_major": 2,
       "version_minor": 0
      },
      "text/plain": [
       "BoundedIntText(value=1, description='Poly Order', layout=Layout(width='140px'), max=9)"
      ]
     },
     "execution_count": 140,
     "metadata": {},
     "output_type": "execute_result"
    }
   ],
   "source": [
    "poly_order"
   ]
  },
  {
   "cell_type": "code",
   "execution_count": 141,
   "id": "d08aeaf6-4e37-4c2f-9c01-fe8217b7063f",
   "metadata": {},
   "outputs": [
    {
     "data": {
      "application/vnd.jupyter.widget-view+json": {
       "model_id": "dd120b0c437f4a988e63fc9a55484a35",
       "version_major": 2,
       "version_minor": 0
      },
      "text/plain": [
       "IntRangeSlider(value=(1885, 1923), description='Range of Years', layout=Layout(width='500px'), max=2019, min=1…"
      ]
     },
     "execution_count": 141,
     "metadata": {},
     "output_type": "execute_result"
    }
   ],
   "source": [
    "year_range"
   ]
  },
  {
   "cell_type": "code",
   "execution_count": 142,
   "id": "ea31ebaf-455b-43a4-b532-ca6be562d0e6",
   "metadata": {},
   "outputs": [
    {
     "data": {
      "application/vnd.jupyter.widget-view+json": {
       "model_id": "4080efc77d5d42a3bf71f80eb9b31672",
       "version_major": 2,
       "version_minor": 0
      },
      "text/plain": [
       "HBox(children=(IntSlider(value=10, description='Window Size', min=1, style=SliderStyle(handle_color='orange'))…"
      ]
     },
     "execution_count": 142,
     "metadata": {},
     "output_type": "execute_result"
    }
   ],
   "source": [
    "#| export\n",
    "curve_parameter_widgets = widgets.HBox(children = (window_size, poly_order))\n",
    "curve_parameter_widgets.layout.width = '500px'\n",
    "curve_parameter_widgets"
   ]
  },
  {
   "cell_type": "markdown",
   "id": "4298ab7e-b49d-46ba-855d-b78bc4bdb598",
   "metadata": {},
   "source": [
    "Nice! This looks good because this HBox is about as wide as our `year_range` widget is.  Notice that we can pass in the children as a parameter to the widget, or change the children trait after the widget has already been instantiated. "
   ]
  },
  {
   "cell_type": "code",
   "execution_count": 143,
   "id": "ed9eb9fb-4693-4474-b95a-36422a98af4c",
   "metadata": {},
   "outputs": [
    {
     "data": {
      "application/vnd.jupyter.widget-view+json": {
       "model_id": "6dcee8a340c44f46ae0725248e0962ae",
       "version_major": 2,
       "version_minor": 0
      },
      "text/plain": [
       "VBox()"
      ]
     },
     "execution_count": 143,
     "metadata": {},
     "output_type": "execute_result"
    }
   ],
   "source": [
    "#| export\n",
    "# %answer key/dashboard/widgets.py 47\n",
    "\n",
    "left_vbox = widgets.VBox()\n",
    "# add children intro_text, data_source_text, year_range, curve_parameter_widgets\n",
    "left_vbox"
   ]
  },
  {
   "cell_type": "markdown",
   "id": "db8c12e5-6013-4e92-bf0f-dc3304f2b41d",
   "metadata": {},
   "source": [
    "This look okay, I guess, but we could really use some more padding in between the widgets."
   ]
  },
  {
   "cell_type": "code",
   "execution_count": 144,
   "id": "708d637b-24ab-4fae-a242-5a66a072c946",
   "metadata": {},
   "outputs": [],
   "source": [
    "left_vbox.layout.margin = '15px 0 15px 0'"
   ]
  },
  {
   "cell_type": "markdown",
   "id": "fb1dd1b0-7930-465d-8598-65f32b2a7539",
   "metadata": {},
   "source": [
    "Hmmm... that seemed to add a little padding, but only to the ourside f the box. Can you guess how we might add padding to each of the widgets? Try it below."
   ]
  },
  {
   "cell_type": "code",
   "execution_count": 145,
   "id": "5ac1fc6e-4f35-4fbd-b71f-b8fa7cae169c",
   "metadata": {},
   "outputs": [],
   "source": [
    "#| export\n",
    "# %answer key/dashboard/widgets.py 51\n",
    "\n",
    "# how might we add padding to each of the widgets"
   ]
  },
  {
   "cell_type": "markdown",
   "id": "4c883a10-3dbd-4c66-af69-12961ff62d09",
   "metadata": {},
   "source": [
    "That looks a lot better! Now lets take care of the right side of our dashboard."
   ]
  },
  {
   "cell_type": "code",
   "execution_count": 146,
   "id": "55438ef3-d32b-4362-9aa5-7cfe2f555c1b",
   "metadata": {},
   "outputs": [
    {
     "data": {
      "application/vnd.jupyter.widget-view+json": {
       "model_id": "5347ace53dd54a65bc5d3bc3cc34196c",
       "version_major": 2,
       "version_minor": 0
      },
      "text/plain": [
       "VBox(children=(Accordion(children=(Output(outputs=({'output_type': 'display_data', 'data': {'text/plain': '   …"
      ]
     },
     "execution_count": 146,
     "metadata": {},
     "output_type": "execute_result"
    }
   ],
   "source": [
    "#| export\n",
    "right_vbox = widgets.VBox(children = (selected_data_accordion, plot_output)) # add the selected_data_accordion and the plot_output to a VBox widget\n",
    "right_vbox"
   ]
  },
  {
   "cell_type": "markdown",
   "id": "24e051f8-5671-4311-bbe7-423f0cb9b540",
   "metadata": {},
   "source": [
    "Okay! Lets put the left and the right-hand boxes side by side to create the final form of our dashboard!"
   ]
  },
  {
   "cell_type": "code",
   "execution_count": 147,
   "id": "48c69c26-7755-4bdf-b980-6a520b04e8d6",
   "metadata": {},
   "outputs": [
    {
     "data": {
      "application/vnd.jupyter.widget-view+json": {
       "model_id": "4809cf4d38a545fb8240c62a359fbf68",
       "version_major": 2,
       "version_minor": 0
      },
      "text/plain": [
       "HBox(children=(VBox(children=(Accordion(children=(Output(outputs=({'output_type': 'display_data', 'data': {'te…"
      ]
     },
     "execution_count": 147,
     "metadata": {},
     "output_type": "execute_result"
    }
   ],
   "source": [
    "#| export\n",
    "main_widget = widgets.HBox(children = (right_vbox, ))\n",
    "main_widget"
   ]
  },
  {
   "cell_type": "markdown",
   "id": "06b94b84-e5b3-4df4-ba08-28d9b11a6d10",
   "metadata": {},
   "source": [
    "That is awefully squished together! Let's change a few more settings to clean things up."
   ]
  },
  {
   "cell_type": "code",
   "execution_count": 154,
   "id": "f73a7fee-6d94-421d-b391-55d8dd36a43c",
   "metadata": {},
   "outputs": [],
   "source": [
    "#| export\n",
    "right_vbox.layout.margin = '0 0 0 30px'\n",
    "right_vbox.layout.align_items = 'flex-end'\n",
    "selected_data_accordion.layout.width = '88%'\n",
    "#left_vbox.layout.min_width = '500px'"
   ]
  },
  {
   "cell_type": "markdown",
   "id": "dcd61361-b84d-4665-88d0-c0e42c3e8dc0",
   "metadata": {},
   "source": [
    "Wow that looks really good! I think it's time to pubish a dashboard. Remember that our main contains all the children widgets, so we should be able to simply import main in another notebook to see the final product."
   ]
  },
  {
   "cell_type": "code",
   "execution_count": 155,
   "id": "d0d1fd1d-c4da-4f6d-8b19-113525116cb3",
   "metadata": {},
   "outputs": [],
   "source": [
    "scroll_view = widgets.Output()\n",
    "\n",
    "# Populate the output widget with content\n",
    "with scroll_view:\n",
    "    display(selected_data_accordion)  \n",
    "\n",
    "# Display the output widget inside a VBox with scrolling enabled\n",
    "selected_data = (widgets.VBox(children=[scroll_view], layout={\"height\": \"300px\", \"overflow\": \"auto\"}))"
   ]
  },
  {
   "cell_type": "code",
   "execution_count": 156,
   "id": "bdb893e1-91f1-4594-b567-64b01f4a31b6",
   "metadata": {},
   "outputs": [
    {
     "data": {
      "application/vnd.jupyter.widget-view+json": {
       "model_id": "de726ae917fb4f2da1cc4cbca641eeec",
       "version_major": 2,
       "version_minor": 0
      },
      "text/plain": [
       "VBox(children=(Tab(children=(VBox(children=(HTML(value='\\n<p><b>Curve Smoothing</b>\\nThis tool is for smoothin…"
      ]
     },
     "metadata": {},
     "output_type": "display_data"
    }
   ],
   "source": [
    "### NAMITA'S ADDITIONS:\n",
    "\n",
    "from ipywidgets import Tab, Stack\n",
    "# import ipyvuetify as v\n",
    "\n",
    "# Create first tab\n",
    "first_next_button = widgets.Button(description='Next', layout=widgets.Layout(width='auto', background_color='lightblue', color='black'))\n",
    "first_tab = widgets.VBox([\n",
    "    intro_text,\n",
    "    data_source_text,\n",
    "    first_next_button\n",
    "])\n",
    "\n",
    "\n",
    "sec_next_button = widgets.Button(description='Next', layout=widgets.Layout(width='auto', background_color='lightblue', color='black'))\n",
    "sec_tab = widgets.VBox([\n",
    "    \n",
    "    selected_data,\n",
    "    main_widget,\n",
    "    year_range,\n",
    "    curve_parameter_widgets,\n",
    "    sec_next_button\n",
    "])\n",
    "def on_button_click(button):\n",
    "    # Switch to the second tab (index 1) when the button is clicked\n",
    "    tabs.selected_index = tabs.selected_index + 1\n",
    "\n",
    "first_next_button.on_click(on_button_click)\n",
    "sec_next_button.on_click(on_button_click)\n",
    "\n",
    "\n",
    "# Create the Tabs widget with Welcome, Setup, Graph, and Export tabs\n",
    "tabs = widgets.Tab(children=[first_tab, sec_tab])\n",
    "tabs.set_title(0, 'First Tab')\n",
    "tabs.set_title(1, 'Second Tab')\n",
    "display(widgets.VBox([tabs]))"
   ]
  },
  {
   "cell_type": "code",
   "execution_count": 151,
   "id": "aa9e694b-a2ab-4da1-b984-85f062f5e9d1",
   "metadata": {},
   "outputs": [],
   "source": [
    "# from nbdev.export import nb_export\n",
    "\n",
    "# nb_export('07_layout.ipynb', 'dashboard')"
   ]
  },
  {
   "cell_type": "code",
   "execution_count": null,
   "id": "acf3367a-cb57-4a79-961f-f41bea0f2437",
   "metadata": {},
   "outputs": [],
   "source": []
  },
  {
   "cell_type": "code",
   "execution_count": null,
   "id": "71472e60-6355-46cc-b67d-5258c3143777",
   "metadata": {},
   "outputs": [],
   "source": []
  },
  {
   "cell_type": "code",
   "execution_count": null,
   "id": "b6ee7b92-1560-4f19-a217-cea85b469cc7",
   "metadata": {},
   "outputs": [],
   "source": []
  }
 ],
 "metadata": {
  "kernelspec": {
   "display_name": "Python 3 (ipykernel)",
   "language": "python",
   "name": "python3"
  },
  "language_info": {
   "codemirror_mode": {
    "name": "ipython",
    "version": 3
   },
   "file_extension": ".py",
   "mimetype": "text/x-python",
   "name": "python",
   "nbconvert_exporter": "python",
   "pygments_lexer": "ipython3",
   "version": "3.11.4"
  }
 },
 "nbformat": 4,
 "nbformat_minor": 5
}
